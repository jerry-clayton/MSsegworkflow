{
 "cells": [
  {
   "cell_type": "code",
   "execution_count": 1,
   "id": "f815f294-9c42-4e4e-8879-ecdc4ab806b0",
   "metadata": {},
   "outputs": [
    {
     "ename": "ERROR",
     "evalue": "Error in library(MeanShiftR): there is no package called ‘MeanShiftR’\n",
     "output_type": "error",
     "traceback": [
      "Error in library(MeanShiftR): there is no package called ‘MeanShiftR’\nTraceback:\n",
      "1. library(MeanShiftR)"
     ]
    }
   ],
   "source": [
    "\n",
    "###\n",
    "# Set parameters for MS segmentation here\n",
    "#\n",
    "###\n",
    "# Plot width for subplots\n",
    "P_WIDTH <- 200\n",
    "# Plot buffer for subplots\n",
    "P_BUFFER <- 20\n",
    "# Height-to-crown-depth ratio for Mean Shift Algorithm\n",
    "H2CD <- 1\n",
    "# Height-to-crown-width ratio for Mean Shift Algorithm\n",
    "H2CW <- 0.20\n",
    "\n",
    "MINZ <- 1\n",
    "\n",
    "library(lidR)\n",
    "library(MeanShiftR)\n",
    "library(data.table)\n",
    "library(sf)\n"
   ]
  },
  {
   "cell_type": "code",
   "execution_count": 6,
   "id": "1841d9d4-9165-468c-a276-1f0c1ed8850c",
   "metadata": {},
   "outputs": [
    {
     "name": "stderr",
     "output_type": "stream",
     "text": [
      "also installing the dependencies ‘credentials’, ‘gitcreds’, ‘ini’, ‘curl’, ‘gert’, ‘gh’, ‘whisker’, ‘downlit’, ‘httr2’, ‘xopen’, ‘usethis’, ‘miniUI’, ‘pkgdown’, ‘profvis’, ‘rcmdcheck’, ‘remotes’, ‘roxygen2’, ‘rversions’, ‘sessioninfo’, ‘urlchecker’\n",
      "\n",
      "\n",
      "Warning message in install.packages(\"devtools\"):\n",
      "“installation of package ‘curl’ had non-zero exit status”\n",
      "Warning message in install.packages(\"devtools\"):\n",
      "“installation of package ‘profvis’ had non-zero exit status”\n",
      "Warning message in install.packages(\"devtools\"):\n",
      "“installation of package ‘roxygen2’ had non-zero exit status”\n",
      "Warning message in install.packages(\"devtools\"):\n",
      "“installation of package ‘httr2’ had non-zero exit status”\n",
      "Warning message in install.packages(\"devtools\"):\n",
      "“installation of package ‘rcmdcheck’ had non-zero exit status”\n",
      "Warning message in install.packages(\"devtools\"):\n",
      "“installation of package ‘rversions’ had non-zero exit status”\n",
      "Warning message in install.packages(\"devtools\"):\n",
      "“installation of package ‘gert’ had non-zero exit status”\n",
      "Warning message in install.packages(\"devtools\"):\n",
      "“installation of package ‘gh’ had non-zero exit status”\n",
      "Warning message in install.packages(\"devtools\"):\n",
      "“installation of package ‘pkgdown’ had non-zero exit status”\n",
      "Warning message in install.packages(\"devtools\"):\n",
      "“installation of package ‘usethis’ had non-zero exit status”\n",
      "Warning message in install.packages(\"devtools\"):\n",
      "“installation of package ‘devtools’ had non-zero exit status”\n",
      "Updating HTML index of packages in '.Library'\n",
      "\n",
      "Making 'packages.html' ...\n",
      " done\n",
      "\n"
     ]
    }
   ],
   "source": [
    "install.packages('devtools')"
   ]
  },
  {
   "cell_type": "code",
   "execution_count": 4,
   "id": "ee7821ab-187c-4b47-9b6d-4da9357390a4",
   "metadata": {},
   "outputs": [
    {
     "ename": "ERROR",
     "evalue": "Error in loadNamespace(x): there is no package called ‘devtools’\n",
     "output_type": "error",
     "traceback": [
      "Error in loadNamespace(x): there is no package called ‘devtools’\nTraceback:\n",
      "1. loadNamespace(x)",
      "2. withRestarts(stop(cond), retry_loadNamespace = function() NULL)",
      "3. withOneRestart(expr, restarts[[1L]])",
      "4. doWithOneRestart(return(expr), restart)"
     ]
    }
   ],
   "source": [
    "devtools::install_github(\"Niknap/MeanShiftR\")"
   ]
  },
  {
   "cell_type": "code",
   "execution_count": 5,
   "id": "3bb870fd-f788-4344-b28d-c662c9e0b09a",
   "metadata": {},
   "outputs": [
    {
     "name": "stdout",
     "output_type": "stream",
     "text": [
      "[1] \"Skipped files: \"\n",
      "list()\n"
     ]
    }
   ],
   "source": [
    "extract_filename <- function(filepath){\n",
    "\t\n",
    "\treturn(strsplit(filepath, '/')[[1]][3])\n",
    "\n",
    "}\n",
    "\n",
    "# use all available processor cores\n",
    "set_lidr_threads(0)\n",
    "\n",
    "filenames <- Sys.glob(\"las_inputs/normalized/TEAK_1km_norm.las\")\n",
    "#filenames <- Sys.glob(\"las_inputs/normalized/*.las\")\n",
    "\n",
    "filecount <- 0\n",
    "\n",
    "skipped <- list()\n",
    "#print(\"enterloop\")\n",
    "#print(filenames)\n",
    "\n",
    "\n",
    "# iterate over each file, sub-divide into point clouds\n",
    "# with user-defined plot width and buffers \n",
    "# run MS on each file\n",
    "\n",
    "## probably need to break this down into functions.\n",
    "\n",
    "for (file in filenames) {\n",
    "     #file <- filepath\n",
    "     fname <- extract_filename(file)\n",
    "     print(paste0(\"trying file: \",fname))\t\n",
    "     filecount = filecount + 1\n",
    "\n",
    "     f_head <- readLASheader(file)\n",
    "     f_las <- readLAS(file)\n",
    "\n",
    "     # if we want to subset (drop ground/near ground), do it here\n",
    "     # but probably remember that I will need a new header if so.\n",
    "     # but maybe not, cause just saving as NAs anyway\n",
    "\n",
    "     f_dt <- lidR::payload(f_las) %>% as.data.table\n",
    "     \n",
    "     point_clouds <- MeanShiftR::split_BufferedPointCloud(f_dt, plot.width = P_WIDTH, buffer.width = P_BUFFER)\n",
    "     print(\"Point cloud generation done\")\n",
    "\n",
    "     lib_path <- .libPaths()[1]\n",
    "\n",
    "     tryCatch(\n",
    "\t      {\n",
    "\tms_result <- MeanShiftR::parallel_MeanShift(point_clouds, lib.path = lib_path, frac.cores = 0.9, version = 'classic', H2CW = H2CW, H2CL = H2CD,minz=MINZ)\n",
    "\n",
    "     # ms_result is a data.table\n",
    "     print(\"Mean Shift segmentation done\")\n",
    "     ms_out <- paste0(\"intermediates/ms_result_\",strsplit(fname,'\\\\.')[[1]][1],\".rds\")\n",
    "     print(ms_out)\n",
    "     \n",
    "     \n",
    "     #10 point min\n",
    "     byid <- ms_result[, .(.N), by = ID]\n",
    "     g10 <- byid[N>10,,]\n",
    "     tg10 <- ms_result[ID %in% g10$ID]\n",
    "     ms_result <- tg10 \n",
    "     \n",
    "     saveRDS(ms_result,ms_out)\n",
    "     print(\"joining ms result to original data\")\n",
    "     # make IDs from xyz coords\n",
    "     f_dt[, concat := paste(X,Y,Z, sep = \"_\")]\n",
    "     ms_result[, concat := paste(X,Y,Z, sep = \"_\")]\n",
    "\n",
    "     ms_result[, ID := ID]\n",
    "     # left join (update-by-reference-join) (stackoverflow)\n",
    "     # adds treeID to original lidR payload\n",
    "\n",
    "     f_dt[ms_result, on = \"concat\", ID := ID]\n",
    " \n",
    "     # save meanshift-generated IDs to LAS format\n",
    "     flas <- LAS(f_dt, f_head)\n",
    "\n",
    "     flas <- add_lasattribute_manual(flas, f_dt[,ID], name = \"ID\", desc = \"tree ID\", type = \"int64\", NA_value = 99999)\n",
    "\n",
    "     print(\"saving file\")\n",
    "     #outfile <- paste0(\"las_outputs/\", fname,\".las\")\n",
    "     #above: full plots. Below: 400s\n",
    "     outfile <- paste0(\"las_outputs/400_las_outs/\", fname,\".las\")\n",
    "     writeLAS(flas, outfile)\n",
    "     },\n",
    "     error = function(e){\n",
    "     \tprint(paste0(\"error in file: \", fname))\n",
    "\tprint(e)\n",
    "     \tskipped[file]\n",
    "     })\n",
    "\n",
    "}\n",
    "## for post processing:\n",
    "\n",
    "## take results data table, do a group by ID (in tree seg notes), save to new dt (by_id)\n",
    "## do not save separately, just re-calculate in post-processing. \n",
    "## subset the groupby to only IDs with at least X points (10). save to new dt\n",
    "\n",
    "## add maxZ to byID \n",
    "print(\"Skipped files: \")\n",
    "print(skipped)\n"
   ]
  },
  {
   "cell_type": "code",
   "execution_count": null,
   "id": "1e7c3d82-2b80-4020-9b07-b552192d3585",
   "metadata": {},
   "outputs": [],
   "source": []
  }
 ],
 "metadata": {
  "kernelspec": {
   "display_name": "R",
   "language": "R",
   "name": "ir"
  },
  "language_info": {
   "codemirror_mode": "r",
   "file_extension": ".r",
   "mimetype": "text/x-r-source",
   "name": "R",
   "pygments_lexer": "r",
   "version": "4.2.3"
  }
 },
 "nbformat": 4,
 "nbformat_minor": 5
}
